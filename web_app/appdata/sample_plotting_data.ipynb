{
 "cells": [
  {
   "cell_type": "code",
   "execution_count": 9,
   "metadata": {},
   "outputs": [],
   "source": [
    "import pandas as pd\n",
    "import numpy as np\n",
    "import random"
   ]
  },
  {
   "cell_type": "markdown",
   "metadata": {},
   "source": [
    "### Customer ID"
   ]
  },
  {
   "cell_type": "code",
   "execution_count": 10,
   "metadata": {},
   "outputs": [],
   "source": [
    "customer_id = list(range(100))"
   ]
  },
  {
   "cell_type": "markdown",
   "metadata": {},
   "source": [
    "### Customer Segment"
   ]
  },
  {
   "cell_type": "code",
   "execution_count": 11,
   "metadata": {},
   "outputs": [],
   "source": [
    "segments = ['Travel', 'Food', 'Banking', 'War', 'Lifestyle', 'Hacking']\n",
    "cities = ['Mumbai', 'Delhi', 'Jaipur', 'Pune', 'Chennai', 'Bangalore', 'Mysore', 'Chandigarh', 'Jodhpur']\n",
    "ages = ['20-25', '25-30', '30-35', '35-40', '40-45', '45-50', '50-55', '55-60', '60-65', '65-70']"
   ]
  },
  {
   "cell_type": "code",
   "execution_count": 12,
   "metadata": {},
   "outputs": [],
   "source": [
    "arpu = []\n",
    "internet_usage = []\n",
    "voice_usage = []\n",
    "sms_usage = []\n",
    "customer_segment = []\n",
    "gender = []\n",
    "locations = []\n",
    "age = []\n",
    "churn = []\n",
    "for _ in range(10000):\n",
    "    arpu.append(np.random.randint(100, 500))\n",
    "    internet_usage.append(np.random.randint(100, 500))\n",
    "    voice_usage.append(np.random.randint(100, 500))\n",
    "    sms_usage.append(np.random.randint(100, 500))\n",
    "    customer_segment.append(random.choice(segments))\n",
    "    gender.append(random.choice(['M', 'F']))\n",
    "    locations.append(random.choice(cities))\n",
    "    age.append(random.choice(ages))\n",
    "    churn.append(np.random.randint(0, 100))"
   ]
  },
  {
   "cell_type": "code",
   "execution_count": 13,
   "metadata": {},
   "outputs": [],
   "source": [
    "df_dict = {'ARPU': arpu, 'Internet Usage': internet_usage, 'Voice Usage': voice_usage, 'SMS Usage': sms_usage, \n",
    "           'Customer Segment': customer_segment, 'Gender': gender, 'Location': locations, 'Age': age, 'Churn': churn}"
   ]
  },
  {
   "cell_type": "code",
   "execution_count": 14,
   "metadata": {},
   "outputs": [],
   "source": [
    "df = pd.DataFrame.from_dict(df_dict)"
   ]
  },
  {
   "cell_type": "code",
   "execution_count": 15,
   "metadata": {},
   "outputs": [
    {
     "data": {
      "text/html": [
       "<div>\n",
       "<style scoped>\n",
       "    .dataframe tbody tr th:only-of-type {\n",
       "        vertical-align: middle;\n",
       "    }\n",
       "\n",
       "    .dataframe tbody tr th {\n",
       "        vertical-align: top;\n",
       "    }\n",
       "\n",
       "    .dataframe thead th {\n",
       "        text-align: right;\n",
       "    }\n",
       "</style>\n",
       "<table border=\"1\" class=\"dataframe\">\n",
       "  <thead>\n",
       "    <tr style=\"text-align: right;\">\n",
       "      <th></th>\n",
       "      <th>ARPU</th>\n",
       "      <th>Internet Usage</th>\n",
       "      <th>Voice Usage</th>\n",
       "      <th>SMS Usage</th>\n",
       "      <th>Customer Segment</th>\n",
       "      <th>Gender</th>\n",
       "      <th>Location</th>\n",
       "      <th>Age</th>\n",
       "      <th>Churn</th>\n",
       "    </tr>\n",
       "  </thead>\n",
       "  <tbody>\n",
       "    <tr>\n",
       "      <th>0</th>\n",
       "      <td>471</td>\n",
       "      <td>313</td>\n",
       "      <td>394</td>\n",
       "      <td>261</td>\n",
       "      <td>War</td>\n",
       "      <td>F</td>\n",
       "      <td>Chandigarh</td>\n",
       "      <td>65-70</td>\n",
       "      <td>53</td>\n",
       "    </tr>\n",
       "    <tr>\n",
       "      <th>1</th>\n",
       "      <td>158</td>\n",
       "      <td>366</td>\n",
       "      <td>176</td>\n",
       "      <td>136</td>\n",
       "      <td>War</td>\n",
       "      <td>F</td>\n",
       "      <td>Pune</td>\n",
       "      <td>55-60</td>\n",
       "      <td>84</td>\n",
       "    </tr>\n",
       "    <tr>\n",
       "      <th>2</th>\n",
       "      <td>449</td>\n",
       "      <td>231</td>\n",
       "      <td>329</td>\n",
       "      <td>339</td>\n",
       "      <td>War</td>\n",
       "      <td>F</td>\n",
       "      <td>Jaipur</td>\n",
       "      <td>45-50</td>\n",
       "      <td>59</td>\n",
       "    </tr>\n",
       "    <tr>\n",
       "      <th>3</th>\n",
       "      <td>102</td>\n",
       "      <td>324</td>\n",
       "      <td>343</td>\n",
       "      <td>195</td>\n",
       "      <td>Food</td>\n",
       "      <td>M</td>\n",
       "      <td>Delhi</td>\n",
       "      <td>35-40</td>\n",
       "      <td>9</td>\n",
       "    </tr>\n",
       "    <tr>\n",
       "      <th>4</th>\n",
       "      <td>357</td>\n",
       "      <td>364</td>\n",
       "      <td>280</td>\n",
       "      <td>468</td>\n",
       "      <td>War</td>\n",
       "      <td>M</td>\n",
       "      <td>Chandigarh</td>\n",
       "      <td>25-30</td>\n",
       "      <td>4</td>\n",
       "    </tr>\n",
       "  </tbody>\n",
       "</table>\n",
       "</div>"
      ],
      "text/plain": [
       "   ARPU  Internet Usage  Voice Usage  SMS Usage Customer Segment Gender  \\\n",
       "0   471             313          394        261              War      F   \n",
       "1   158             366          176        136              War      F   \n",
       "2   449             231          329        339              War      F   \n",
       "3   102             324          343        195             Food      M   \n",
       "4   357             364          280        468              War      M   \n",
       "\n",
       "     Location    Age  Churn  \n",
       "0  Chandigarh  65-70     53  \n",
       "1        Pune  55-60     84  \n",
       "2      Jaipur  45-50     59  \n",
       "3       Delhi  35-40      9  \n",
       "4  Chandigarh  25-30      4  "
      ]
     },
     "execution_count": 15,
     "metadata": {},
     "output_type": "execute_result"
    }
   ],
   "source": [
    "df.head()"
   ]
  },
  {
   "cell_type": "code",
   "execution_count": 16,
   "metadata": {},
   "outputs": [],
   "source": [
    "df.to_csv('./sample_plotting.csv', index=False)"
   ]
  },
  {
   "cell_type": "code",
   "execution_count": 20,
   "metadata": {},
   "outputs": [
    {
     "data": {
      "text/plain": [
       "['War', 'Food', 'Banking', 'Lifestyle', 'Travel', 'Hacking']"
      ]
     },
     "execution_count": 20,
     "metadata": {},
     "output_type": "execute_result"
    }
   ],
   "source": [
    "list(df['Customer Segment'].unique())"
   ]
  },
  {
   "cell_type": "code",
   "execution_count": null,
   "metadata": {},
   "outputs": [],
   "source": []
  }
 ],
 "metadata": {
  "kernelspec": {
   "display_name": "customdash",
   "language": "python",
   "name": "customdash"
  },
  "language_info": {
   "codemirror_mode": {
    "name": "ipython",
    "version": 3
   },
   "file_extension": ".py",
   "mimetype": "text/x-python",
   "name": "python",
   "nbconvert_exporter": "python",
   "pygments_lexer": "ipython3",
   "version": "3.7.4"
  }
 },
 "nbformat": 4,
 "nbformat_minor": 2
}
